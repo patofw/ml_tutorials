{
 "cells": [
  {
   "cell_type": "markdown",
   "metadata": {},
   "source": [
    "# TD IDF en Sklearn\n",
    "\n",
    "Scikit Learn facilita muchísimo el procesamiento del texto con TF IDF, limitándose a poder ejecutarlo con tan solo 3 líneas de código.\n",
    "\n",
    "SkLearn utiliza una transformacion de Log con base 2, otros utilizan con base 10. Base 2 suele ser más precisa.\n"
   ]
  },
  {
   "cell_type": "code",
   "execution_count": 5,
   "metadata": {},
   "outputs": [
    {
     "name": "stdout",
     "output_type": "stream",
     "text": [
      "['and', 'good', 'is', 'long', 'movie', 'not', 'scary', 'slow', 'spooky', 'this', 'very']\n"
     ]
    }
   ],
   "source": [
    "import pandas as pd\n",
    "\n",
    "from sklearn.feature_extraction.text import TfidfVectorizer\n",
    "from sklearn.feature_extraction import text\n",
    "\n",
    "\n",
    "corpus = [\n",
    "    \"This movie is very scary and long\",\n",
    "    \"This movie is not scary and is slow\",\n",
    "    \"This movie is spooky and good\"\n",
    "]\n",
    "vectorizer = TfidfVectorizer(\n",
    "    smooth_idf=False\n",
    ")  # Smooth le agrega una constante (1)\n",
    "X = vectorizer.fit_transform(corpus)\n",
    "\n",
    "print(vectorizer.get_feature_names())"
   ]
  },
  {
   "cell_type": "code",
   "execution_count": 9,
   "metadata": {},
   "outputs": [
    {
     "name": "stdout",
     "output_type": "stream",
     "text": [
      "['good', 'long', 'movie', 'scary', 'slow', 'spooky']\n",
      "Stopwords encontradas: {'not', 'very', 'is', 'and'}\n"
     ]
    }
   ],
   "source": [
    "# Incluso se puede aplicar Stopwords directamente \n",
    "\n",
    "\n",
    "vectorizer = TfidfVectorizer(\n",
    "    smooth_idf=False,\n",
    "    stop_words=text.ENGLISH_STOP_WORDS  # stopwords de sklearn\n",
    ")  # Smooth le agrega una constante (1)\n",
    "X = vectorizer.fit_transform(corpus)\n",
    "\n",
    "print(vectorizer.get_feature_names())\n",
    "print(\n",
    "    \"Stopwords encontradas:\", \n",
    "    {\n",
    "        x for x in vectorizer.get_stop_words() if \n",
    "        x in ' '.join(corpus).split()\n",
    "    }\n",
    ")"
   ]
  },
  {
   "cell_type": "code",
   "execution_count": 10,
   "metadata": {},
   "outputs": [
    {
     "data": {
      "text/html": [
       "<div>\n",
       "<style scoped>\n",
       "    .dataframe tbody tr th:only-of-type {\n",
       "        vertical-align: middle;\n",
       "    }\n",
       "\n",
       "    .dataframe tbody tr th {\n",
       "        vertical-align: top;\n",
       "    }\n",
       "\n",
       "    .dataframe thead th {\n",
       "        text-align: right;\n",
       "    }\n",
       "</style>\n",
       "<table border=\"1\" class=\"dataframe\">\n",
       "  <thead>\n",
       "    <tr style=\"text-align: right;\">\n",
       "      <th></th>\n",
       "      <th>Pesos_IDF</th>\n",
       "    </tr>\n",
       "  </thead>\n",
       "  <tbody>\n",
       "    <tr>\n",
       "      <th>movie</th>\n",
       "      <td>1.000000</td>\n",
       "    </tr>\n",
       "    <tr>\n",
       "      <th>scary</th>\n",
       "      <td>1.405465</td>\n",
       "    </tr>\n",
       "    <tr>\n",
       "      <th>good</th>\n",
       "      <td>2.098612</td>\n",
       "    </tr>\n",
       "    <tr>\n",
       "      <th>long</th>\n",
       "      <td>2.098612</td>\n",
       "    </tr>\n",
       "    <tr>\n",
       "      <th>slow</th>\n",
       "      <td>2.098612</td>\n",
       "    </tr>\n",
       "    <tr>\n",
       "      <th>spooky</th>\n",
       "      <td>2.098612</td>\n",
       "    </tr>\n",
       "  </tbody>\n",
       "</table>\n",
       "</div>"
      ],
      "text/plain": [
       "        Pesos_IDF\n",
       "movie    1.000000\n",
       "scary    1.405465\n",
       "good     2.098612\n",
       "long     2.098612\n",
       "slow     2.098612\n",
       "spooky   2.098612"
      ]
     },
     "execution_count": 10,
     "metadata": {},
     "output_type": "execute_result"
    }
   ],
   "source": [
    "# Podemos verlo en un DataFrame\n",
    "df_idf = pd.DataFrame(\n",
    "    vectorizer.idf_, \n",
    "    index=vectorizer.get_feature_names(),\n",
    "    columns=[\"Pesos_IDF\"]\n",
    ") \n",
    "# sort ascending \n",
    "df_idf.sort_values(by=['Pesos_IDF'])"
   ]
  },
  {
   "cell_type": "code",
   "execution_count": 11,
   "metadata": {},
   "outputs": [],
   "source": [
    "vectores = {}\n",
    "for i in range(X.shape[0]):\n",
    "    vectores[f'review_{i + 1}'] = X[i].T.todense()\n"
   ]
  },
  {
   "cell_type": "code",
   "execution_count": 12,
   "metadata": {},
   "outputs": [
    {
     "data": {
      "text/plain": [
       "{'review_1': matrix([[0.        ],\n",
       "         [0.77253573],\n",
       "         [0.36811741],\n",
       "         [0.51737618],\n",
       "         [0.        ],\n",
       "         [0.        ]]),\n",
       " 'review_2': matrix([[0.        ],\n",
       "         [0.        ],\n",
       "         [0.36811741],\n",
       "         [0.51737618],\n",
       "         [0.77253573],\n",
       "         [0.        ]]),\n",
       " 'review_3': matrix([[0.67009179],\n",
       "         [0.        ],\n",
       "         [0.31930233],\n",
       "         [0.        ],\n",
       "         [0.        ],\n",
       "         [0.67009179]])}"
      ]
     },
     "execution_count": 12,
     "metadata": {},
     "output_type": "execute_result"
    }
   ],
   "source": [
    "vectores"
   ]
  },
  {
   "cell_type": "code",
   "execution_count": null,
   "metadata": {},
   "outputs": [],
   "source": []
  }
 ],
 "metadata": {
  "interpreter": {
   "hash": "31f2aee4e71d21fbe5cf8b01ff0e069b9275f58929596ceb00d14d90e3e16cd6"
  },
  "kernelspec": {
   "display_name": "Python 3.7.10 64-bit",
   "language": "python",
   "name": "python3"
  },
  "language_info": {
   "codemirror_mode": {
    "name": "ipython",
    "version": 3
   },
   "file_extension": ".py",
   "mimetype": "text/x-python",
   "name": "python",
   "nbconvert_exporter": "python",
   "pygments_lexer": "ipython3",
   "version": "3.9.7"
  },
  "orig_nbformat": 4
 },
 "nbformat": 4,
 "nbformat_minor": 2
}

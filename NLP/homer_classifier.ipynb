{
 "cells": [
  {
   "cell_type": "code",
   "execution_count": 25,
   "metadata": {},
   "outputs": [],
   "source": [
    "import re  # Procesamiento de Texto\n",
    "import pandas as pd  \n",
    "from time import time  # Medir tiempo de ejecucion\n",
    "import multiprocessing\n",
    "import logging  # Sacar logs del modelo\n",
    "\n",
    "import numpy as np\n",
    "import matplotlib.pyplot as plt\n",
    " \n",
    "import seaborn as sns\n",
    "\n",
    "from collections import defaultdict  \n",
    "from sklearn.model_selection import train_test_split\n",
    "\n",
    "import spacy  # Procesamiento NLP"
   ]
  },
  {
   "cell_type": "code",
   "execution_count": 26,
   "metadata": {},
   "outputs": [
    {
     "data": {
      "text/html": [
       "<div>\n",
       "<style scoped>\n",
       "    .dataframe tbody tr th:only-of-type {\n",
       "        vertical-align: middle;\n",
       "    }\n",
       "\n",
       "    .dataframe tbody tr th {\n",
       "        vertical-align: top;\n",
       "    }\n",
       "\n",
       "    .dataframe thead th {\n",
       "        text-align: right;\n",
       "    }\n",
       "</style>\n",
       "<table border=\"1\" class=\"dataframe\">\n",
       "  <thead>\n",
       "    <tr style=\"text-align: right;\">\n",
       "      <th></th>\n",
       "      <th>raw_character_text</th>\n",
       "      <th>spoken_words</th>\n",
       "    </tr>\n",
       "  </thead>\n",
       "  <tbody>\n",
       "    <tr>\n",
       "      <th>0</th>\n",
       "      <td>Miss Hoover</td>\n",
       "      <td>No, actually, it was a little of both. Sometim...</td>\n",
       "    </tr>\n",
       "    <tr>\n",
       "      <th>1</th>\n",
       "      <td>Lisa Simpson</td>\n",
       "      <td>Where's Mr. Bergstrom?</td>\n",
       "    </tr>\n",
       "    <tr>\n",
       "      <th>2</th>\n",
       "      <td>Miss Hoover</td>\n",
       "      <td>I don't know. Although I'd sure like to talk t...</td>\n",
       "    </tr>\n",
       "    <tr>\n",
       "      <th>3</th>\n",
       "      <td>Lisa Simpson</td>\n",
       "      <td>That life is worth living.</td>\n",
       "    </tr>\n",
       "    <tr>\n",
       "      <th>4</th>\n",
       "      <td>Edna Krabappel-Flanders</td>\n",
       "      <td>The polls will be open from now until the end ...</td>\n",
       "    </tr>\n",
       "  </tbody>\n",
       "</table>\n",
       "</div>"
      ],
      "text/plain": [
       "        raw_character_text                                       spoken_words\n",
       "0              Miss Hoover  No, actually, it was a little of both. Sometim...\n",
       "1             Lisa Simpson                             Where's Mr. Bergstrom?\n",
       "2              Miss Hoover  I don't know. Although I'd sure like to talk t...\n",
       "3             Lisa Simpson                         That life is worth living.\n",
       "4  Edna Krabappel-Flanders  The polls will be open from now until the end ..."
      ]
     },
     "execution_count": 26,
     "metadata": {},
     "output_type": "execute_result"
    }
   ],
   "source": [
    "# DATA DIR \n",
    "url = 'https://raw.githubusercontent.com/pfernandez-sanofi/ml_tutorials/main/DATA/simpson_dataset.csv'\n",
    "# cargamos datos \n",
    "df = pd.read_csv(url)\n",
    "df.head()"
   ]
  },
  {
   "cell_type": "code",
   "execution_count": 27,
   "metadata": {},
   "outputs": [],
   "source": [
    "df = df.dropna().reset_index(drop=True) # eliminamos nulos \n",
    "\n",
    "# Filtrando Homero \n",
    "\n",
    "df['is_homer'] = [\n",
    "    1 if \"homer\" in x.lower() else 0 for x\n",
    "    in df.raw_character_text\n",
    "]"
   ]
  },
  {
   "cell_type": "code",
   "execution_count": 28,
   "metadata": {},
   "outputs": [
    {
     "data": {
      "text/plain": [
       "0    0.78451\n",
       "1    0.21549\n",
       "Name: is_homer, dtype: float64"
      ]
     },
     "execution_count": 28,
     "metadata": {},
     "output_type": "execute_result"
    }
   ],
   "source": [
    "df.is_homer.value_counts() / len(df) "
   ]
  },
  {
   "cell_type": "code",
   "execution_count": 29,
   "metadata": {},
   "outputs": [
    {
     "data": {
      "text/plain": [
       "<AxesSubplot:>"
      ]
     },
     "execution_count": 29,
     "metadata": {},
     "output_type": "execute_result"
    },
    {
     "data": {
      "image/png": "[encoded data removed]",
      "text/plain": [
       "<Figure size 432x288 with 1 Axes>"
      ]
     },
     "metadata": {
      "needs_background": "light"
     },
     "output_type": "display_data"
    }
   ],
   "source": [
    "# Vemos el plot cumulativo donde tenemos los personas menos relevantes\n",
    "df.raw_character_text.value_counts().cumsum().plot()"
   ]
  },
  {
   "cell_type": "code",
   "execution_count": 30,
   "metadata": {},
   "outputs": [],
   "source": [
    "cumsum_participation = df.raw_character_text.value_counts().cumsum()\n",
    "mask = cumsum_participation <= 110_000\n",
    "rel_characters = cumsum_participation[mask].index\n",
    "# Filter for the relevant characters\n",
    "df = df[df.raw_character_text.isin(rel_characters)]"
   ]
  },
  {
   "cell_type": "code",
   "execution_count": 31,
   "metadata": {},
   "outputs": [
    {
     "data": {
      "text/plain": [
       "0    0.744104\n",
       "1    0.255896\n",
       "Name: is_homer, dtype: float64"
      ]
     },
     "execution_count": 31,
     "metadata": {},
     "output_type": "execute_result"
    }
   ],
   "source": [
    "df.is_homer.value_counts() / len(df) "
   ]
  },
  {
   "cell_type": "code",
   "execution_count": 32,
   "metadata": {},
   "outputs": [
    {
     "data": {
      "text/plain": [
       "109982"
      ]
     },
     "execution_count": 32,
     "metadata": {},
     "output_type": "execute_result"
    }
   ],
   "source": [
    "len(df)"
   ]
  },
  {
   "cell_type": "markdown",
   "metadata": {},
   "source": [
    "# Reducimos tamaño del DF para evitar problemas de memoria"
   ]
  },
  {
   "cell_type": "code",
   "execution_count": 33,
   "metadata": {},
   "outputs": [
    {
     "name": "stderr",
     "output_type": "stream",
     "text": [
      "/var/folders/g9/cjl__p5n18j7_y_2lx39ww4m0000gn/T/ipykernel_3213/3182038189.py:11: FutureWarning: The frame.append method is deprecated and will be removed from pandas in a future version. Use pandas.concat instead.\n",
      "  to_model_df = df.query(\n"
     ]
    }
   ],
   "source": [
    "# reducimos a la 50% de los not homer\n",
    "# Esto también nos ayudará a balancear el modelo\n",
    "\n",
    "sample_size = int(\n",
    "     len(\n",
    "         df.query(\n",
    "            \"is_homer == 0\"\n",
    "        )\n",
    "    ) * 0.5\n",
    ")\n",
    "to_model_df = df.query(\n",
    "    \"is_homer == 1\"\n",
    ").append(\n",
    "    df.query(\n",
    "        \"is_homer == 0\"\n",
    ").sample(sample_size)\n",
    ").reset_index(drop=True)"
   ]
  },
  {
   "cell_type": "code",
   "execution_count": 34,
   "metadata": {},
   "outputs": [
    {
     "data": {
      "text/plain": [
       "0    0.592488\n",
       "1    0.407512\n",
       "Name: is_homer, dtype: float64"
      ]
     },
     "execution_count": 34,
     "metadata": {},
     "output_type": "execute_result"
    }
   ],
   "source": [
    "to_model_df.is_homer.value_counts() / len(to_model_df) "
   ]
  },
  {
   "cell_type": "code",
   "execution_count": 35,
   "metadata": {},
   "outputs": [
    {
     "data": {
      "text/plain": [
       "69063"
      ]
     },
     "execution_count": 35,
     "metadata": {},
     "output_type": "execute_result"
    }
   ],
   "source": [
    "len(to_model_df)"
   ]
  },
  {
   "cell_type": "code",
   "execution_count": 36,
   "metadata": {},
   "outputs": [],
   "source": [
    "to_model_sample_size = 20_000  # pueden incluso disminuir este valor\n",
    "to_model_df = to_model_df.sample(to_model_sample_size)"
   ]
  },
  {
   "cell_type": "code",
   "execution_count": 37,
   "metadata": {},
   "outputs": [
    {
     "data": {
      "text/plain": [
       "0    0.58965\n",
       "1    0.41035\n",
       "Name: is_homer, dtype: float64"
      ]
     },
     "execution_count": 37,
     "metadata": {},
     "output_type": "execute_result"
    }
   ],
   "source": [
    "to_model_df.is_homer.value_counts() / len(to_model_df) "
   ]
  },
  {
   "cell_type": "code",
   "execution_count": 38,
   "metadata": {},
   "outputs": [],
   "source": [
    "nlp = spacy.load(\n",
    "  'en_core_web_sm',  # Capaz sea necesario descargar modelo de Spacy English.\n",
    "  disable=['ner', 'parser']  # desactivamos modelos por facilidad de procesamiento\n",
    "  ) \n",
    "\n",
    "def cleaning(doc):\n",
    "  \"\"\"\n",
    "  Lemmatiza y elimina stopwords\n",
    "  Necesitamos un doc como lo describe spacy\n",
    "  :param doc: DOC según lo describe Spacy. \n",
    "  :return: Una cadena de texto. \n",
    "  \"\"\"\n",
    "  txt = [token.lemma_ for token in doc if not token.is_stop]\n",
    "  # Word2Vec usa el contexto para entender la reperesentacion de la palabra\n",
    "  # Si la oracion es corta, no va a aprender mucho\n",
    "  return ' '.join(txt)\n",
    "# Reemplazamos todo lo que no sea alphanum por espacio\n",
    "brief_cleaning = (\n",
    "  re.sub(r\"[^A-Za-z0-9']+\", \n",
    "  ' ', \n",
    "  str(row)).lower().strip() for row in to_model_df['spoken_words']  # por cada fila en df.\n",
    "  )"
   ]
  },
  {
   "cell_type": "code",
   "execution_count": 39,
   "metadata": {},
   "outputs": [],
   "source": [
    "# Usamos el método Pipe de Spacy para procesar con mayor velocidad\n",
    "t = time() # Calculamos tiempo\n",
    "\n",
    "txt = [\n",
    "    cleaning(doc) for doc in nlp.pipe(\n",
    "        brief_cleaning, # función que def antes\n",
    "        batch_size=5000, \n",
    "        n_process=-1 # usamos todos los cores\n",
    "    )\n",
    "]\n",
    "# medimos tiempo de ejecución \n",
    "t_ = round((time() - t) / 60, 2) # Tiempo de ejecucion en mins\n",
    "print(f'Tiempo de ejecución: {t_} mins')"
   ]
  },
  {
   "cell_type": "code",
   "execution_count": 17,
   "metadata": {},
   "outputs": [],
   "source": [
    "to_model_df['clean_txt'] = txt\n",
    "to_model_df = to_model_df[to_model_df.clean_txt.notnull()]"
   ]
  },
  {
   "cell_type": "code",
   "execution_count": 18,
   "metadata": {},
   "outputs": [
    {
     "data": {
      "text/plain": [
       "12982"
      ]
     },
     "execution_count": 18,
     "metadata": {},
     "output_type": "execute_result"
    }
   ],
   "source": [
    "len(to_model_df)"
   ]
  },
  {
   "cell_type": "code",
   "execution_count": 19,
   "metadata": {},
   "outputs": [],
   "source": [
    "Y = to_model_df.is_homer.values\n",
    "X = to_model_df.clean_txt\n",
    "\n",
    "# Set entrenamiento y prueba con Keras\n",
    "df_train, df_test, Ytrain, Ytest = train_test_split(\n",
    "    X, Y, test_size=0.30, stratify=Y\n",
    ")"
   ]
  },
  {
   "cell_type": "code",
   "execution_count": 20,
   "metadata": {},
   "outputs": [],
   "source": [
    "from sklearn.feature_extraction.text import CountVectorizer, TfidfVectorizer\n",
    "from sklearn.feature_extraction.text import TfidfTransformer\n",
    "from sklearn.model_selection import GridSearchCV\n",
    "from sklearn.ensemble import RandomForestClassifier\n",
    "from sklearn.pipeline import Pipeline\n"
   ]
  },
  {
   "cell_type": "code",
   "execution_count": 21,
   "metadata": {},
   "outputs": [],
   "source": [
    "# Plot confusion matrix\n",
    "from sklearn.metrics import confusion_matrix\n",
    "import itertools\n",
    "from sklearn.metrics import classification_report, accuracy_score\n",
    "\n",
    "def plot_confusion_matrix(cm, classes,\n",
    "                          normalize=False,\n",
    "                          title='Confusion matrix',\n",
    "                          cmap=plt.cm.Blues):\n",
    "  \"\"\"\n",
    "  This function prints and plots the confusion matrix.\n",
    "  Normalization can be applied by setting `normalize=True`.\n",
    "  \"\"\"\n",
    "  if normalize:\n",
    "      cm = cm.astype('float') / cm.sum(axis=1)[:, np.newaxis]\n",
    "      print(\"Normalized confusion matrix\")\n",
    "  else:\n",
    "      print('Confusion matrix, without normalization')\n",
    "\n",
    "  plt.imshow(cm, interpolation='nearest', cmap=cmap)\n",
    "  plt.title(title)\n",
    "  plt.colorbar()\n",
    "  tick_marks = np.arange(len(classes))\n",
    "  plt.xticks(tick_marks, classes, rotation=45)\n",
    "  plt.yticks(tick_marks, classes)\n",
    "\n",
    "  fmt = '.2f' if normalize else 'd'\n",
    "  thresh = cm.max() / 2.\n",
    "  for i, j in itertools.product(range(cm.shape[0]), range(cm.shape[1])):\n",
    "      plt.text(j, i, format(cm[i, j], fmt),\n",
    "               horizontalalignment=\"center\",\n",
    "               color=\"white\" if cm[i, j] > thresh else \"black\")\n",
    "\n",
    "  plt.tight_layout()\n",
    "  plt.ylabel('True label')\n",
    "  plt.xlabel('Predicted label')\n",
    "  plt.show()"
   ]
  },
  {
   "cell_type": "code",
   "execution_count": 22,
   "metadata": {},
   "outputs": [],
   "source": [
    "# Creamos el Sklearn Pipeline con todas las transformaciones mencionadas arriba \n",
    "text_clf_rf = Pipeline([\n",
    "  ('vect', CountVectorizer()), \n",
    "  ('tfidf', TfidfTransformer()), # transforma por frecuencia \n",
    "  ('clf_rf',\n",
    "    RandomForestClassifier(\n",
    "      n_estimators=200, \n",
    "      verbose=True, # Verbose -> barra progreso\n",
    "      oob_score=True, \n",
    "      min_samples_split=2\n",
    "    )\n",
    "  )\n",
    "  ]\n",
    ")\n",
    "# Realizamos un entrenamiento con CV para tener certeza de los resultados\n",
    "# Y también poder probar cuál modelo es el mejor. \n",
    "\n",
    "scoring = \"f1_micro\" # metric to optimize can be 'recall'\n",
    "cv = 2 # cross validation\n",
    "parameters = { \n",
    "  'vect__ngram_range': [(1, 1), (1, 2)],\n",
    "  #'tfidf__use_idf': (True, False),\n",
    "  'clf_rf__n_estimators': (400, 600),\n",
    "  'clf_rf__min_samples_split': (2, 5)\n",
    "}\n",
    "\n",
    "# Creamos todo el pipeline para que ademas ejecute cambio de parametros \n",
    "grid = GridSearchCV(text_clf_rf, cv=cv, param_grid=parameters, \n",
    "                    scoring=scoring, n_jobs = -1)"
   ]
  },
  {
   "cell_type": "code",
   "execution_count": 23,
   "metadata": {},
   "outputs": [
    {
     "name": "stderr",
     "output_type": "stream",
     "text": [
      "[Parallel(n_jobs=1)]: Using backend SequentialBackend with 1 concurrent workers.\n",
      "[Parallel(n_jobs=1)]: Using backend SequentialBackend with 1 concurrent workers.\n",
      "[Parallel(n_jobs=1)]: Using backend SequentialBackend with 1 concurrent workers.\n",
      "[Parallel(n_jobs=1)]: Using backend SequentialBackend with 1 concurrent workers.\n",
      "[Parallel(n_jobs=1)]: Using backend SequentialBackend with 1 concurrent workers.\n",
      "[Parallel(n_jobs=1)]: Using backend SequentialBackend with 1 concurrent workers.\n",
      "[Parallel(n_jobs=1)]: Using backend SequentialBackend with 1 concurrent workers.\n",
      "[Parallel(n_jobs=1)]: Using backend SequentialBackend with 1 concurrent workers.\n",
      "[Parallel(n_jobs=1)]: Done 400 out of 400 | elapsed:   15.2s finished\n",
      "[Parallel(n_jobs=1)]: Done 400 out of 400 | elapsed:   15.4s finished\n",
      "[Parallel(n_jobs=1)]: Using backend SequentialBackend with 1 concurrent workers.\n",
      "[Parallel(n_jobs=1)]: Using backend SequentialBackend with 1 concurrent workers.\n",
      "[Parallel(n_jobs=1)]: Done 400 out of 400 | elapsed:    2.1s finished\n",
      "[Parallel(n_jobs=1)]: Done 400 out of 400 | elapsed:    2.2s finished\n",
      "[Parallel(n_jobs=1)]: Using backend SequentialBackend with 1 concurrent workers.\n",
      "[Parallel(n_jobs=1)]: Using backend SequentialBackend with 1 concurrent workers.\n",
      "[Parallel(n_jobs=1)]: Done 600 out of 600 | elapsed:   21.8s finished\n",
      "[Parallel(n_jobs=1)]: Done 600 out of 600 | elapsed:   22.6s finished\n",
      "[Parallel(n_jobs=1)]: Using backend SequentialBackend with 1 concurrent workers.\n",
      "[Parallel(n_jobs=1)]: Done 400 out of 400 | elapsed:   24.0s finished\n",
      "[Parallel(n_jobs=1)]: Using backend SequentialBackend with 1 concurrent workers.\n",
      "[Parallel(n_jobs=1)]: Done 400 out of 400 | elapsed:   24.5s finished\n",
      "[Parallel(n_jobs=1)]: Using backend SequentialBackend with 1 concurrent workers.\n",
      "[Parallel(n_jobs=1)]: Using backend SequentialBackend with 1 concurrent workers.\n",
      "[Parallel(n_jobs=1)]: Done 600 out of 600 | elapsed:    3.3s finished\n",
      "[Parallel(n_jobs=1)]: Using backend SequentialBackend with 1 concurrent workers.\n",
      "[Parallel(n_jobs=1)]: Done 600 out of 600 | elapsed:    3.4s finished\n",
      "[Parallel(n_jobs=1)]: Done 400 out of 400 | elapsed:    2.5s finished\n",
      "[Parallel(n_jobs=1)]: Using backend SequentialBackend with 1 concurrent workers.\n",
      "[Parallel(n_jobs=1)]: Using backend SequentialBackend with 1 concurrent workers.\n",
      "[Parallel(n_jobs=1)]: Done 400 out of 400 | elapsed:    2.7s finished\n",
      "[Parallel(n_jobs=1)]: Using backend SequentialBackend with 1 concurrent workers.\n",
      "[Parallel(n_jobs=1)]: Done 400 out of 400 | elapsed:   10.3s finished\n",
      "[Parallel(n_jobs=1)]: Done 400 out of 400 | elapsed:   11.1s finished\n",
      "[Parallel(n_jobs=1)]: Using backend SequentialBackend with 1 concurrent workers.\n",
      "[Parallel(n_jobs=1)]: Using backend SequentialBackend with 1 concurrent workers.\n",
      "[Parallel(n_jobs=1)]: Done 400 out of 400 | elapsed:    2.1s finished\n",
      "[Parallel(n_jobs=1)]: Using backend SequentialBackend with 1 concurrent workers.\n",
      "[Parallel(n_jobs=1)]: Done 400 out of 400 | elapsed:    2.3s finished\n",
      "[Parallel(n_jobs=1)]: Using backend SequentialBackend with 1 concurrent workers.\n",
      "[Parallel(n_jobs=1)]: Done 600 out of 600 | elapsed:   35.4s finished\n",
      "[Parallel(n_jobs=1)]: Done 600 out of 600 | elapsed:   36.2s finished\n",
      "[Parallel(n_jobs=1)]: Using backend SequentialBackend with 1 concurrent workers.\n",
      "[Parallel(n_jobs=1)]: Using backend SequentialBackend with 1 concurrent workers.\n",
      "[Parallel(n_jobs=1)]: Done 600 out of 600 | elapsed:    4.3s finished\n",
      "[Parallel(n_jobs=1)]: Done 600 out of 600 | elapsed:    4.4s finished\n",
      "[Parallel(n_jobs=1)]: Done 400 out of 400 | elapsed:   17.1s finished\n",
      "[Parallel(n_jobs=1)]: Done 600 out of 600 | elapsed:   16.3s finished\n",
      "[Parallel(n_jobs=1)]: Done 600 out of 600 | elapsed:   16.1s finished\n",
      "[Parallel(n_jobs=1)]: Using backend SequentialBackend with 1 concurrent workers.\n",
      "[Parallel(n_jobs=1)]: Done 400 out of 400 | elapsed:   18.2s finished\n",
      "[Parallel(n_jobs=1)]: Using backend SequentialBackend with 1 concurrent workers.\n",
      "[Parallel(n_jobs=1)]: Using backend SequentialBackend with 1 concurrent workers.\n",
      "[Parallel(n_jobs=1)]: Using backend SequentialBackend with 1 concurrent workers.\n",
      "[Parallel(n_jobs=1)]: Done 400 out of 400 | elapsed:    2.1s finished\n",
      "[Parallel(n_jobs=1)]: Done 600 out of 600 | elapsed:    2.5s finished\n",
      "[Parallel(n_jobs=1)]: Done 600 out of 600 | elapsed:    2.7s finished\n",
      "[Parallel(n_jobs=1)]: Done 400 out of 400 | elapsed:    2.1s finished\n",
      "[Parallel(n_jobs=1)]: Done 600 out of 600 | elapsed:   21.2s finished\n",
      "[Parallel(n_jobs=1)]: Using backend SequentialBackend with 1 concurrent workers.\n",
      "[Parallel(n_jobs=1)]: Done 600 out of 600 | elapsed:   21.9s finished\n",
      "[Parallel(n_jobs=1)]: Using backend SequentialBackend with 1 concurrent workers.\n",
      "[Parallel(n_jobs=1)]: Done 600 out of 600 | elapsed:    2.7s finished\n",
      "[Parallel(n_jobs=1)]: Done 600 out of 600 | elapsed:    2.9s finished\n",
      "[Parallel(n_jobs=1)]: Using backend SequentialBackend with 1 concurrent workers.\n",
      "[Parallel(n_jobs=1)]: Done 600 out of 600 | elapsed:   49.1s finished\n"
     ]
    },
    {
     "name": "stdout",
     "output_type": "stream",
     "text": [
      "Resultados en base a f1_micro\n",
      "Mejor: 0.624078 usando {'clf_rf__min_samples_split': 5, 'clf_rf__n_estimators': 600, 'vect__ngram_range': (1, 2)}\n",
      "Resultado medio: 0.6113110190418318, SD: 0.016769966873661113  con: {'clf_rf__min_samples_split': 2, 'clf_rf__n_estimators': 400, 'vect__ngram_range': (1, 1)}\n",
      "Resultado medio: 0.6095499954658614, SD: 0.019191201717237205  con: {'clf_rf__min_samples_split': 2, 'clf_rf__n_estimators': 400, 'vect__ngram_range': (1, 2)}\n",
      "Resultado medio: 0.6114207636031908, SD: 0.019521137805259936  con: {'clf_rf__min_samples_split': 2, 'clf_rf__n_estimators': 600, 'vect__ngram_range': (1, 1)}\n",
      "Resultado medio: 0.6138424102008042, SD: 0.014018505292153538  con: {'clf_rf__min_samples_split': 2, 'clf_rf__n_estimators': 600, 'vect__ngram_range': (1, 2)}\n",
      "Resultado medio: 0.6195655491113088, SD: 0.007855225536578525  con: {'clf_rf__min_samples_split': 5, 'clf_rf__n_estimators': 400, 'vect__ngram_range': (1, 1)}\n",
      "Resultado medio: 0.6236373605655505, SD: 0.007304540842900276  con: {'clf_rf__min_samples_split': 5, 'clf_rf__n_estimators': 400, 'vect__ngram_range': (1, 2)}\n",
      "Resultado medio: 0.6237471293477351, SD: 0.009835617131138119  con: {'clf_rf__min_samples_split': 5, 'clf_rf__n_estimators': 600, 'vect__ngram_range': (1, 1)}\n",
      "Resultado medio: 0.6240778647230067, SD: 0.004443262037556628  con: {'clf_rf__min_samples_split': 5, 'clf_rf__n_estimators': 600, 'vect__ngram_range': (1, 2)}\n"
     ]
    }
   ],
   "source": [
    "# Entrenamos \n",
    "grid.fit(df_train, Ytrain) # Toma TIEMPO!!! \n",
    "\n",
    "# summarize results\n",
    "print(f\"Resultados en base a {scoring}\")\n",
    "print(\"Mejor: %f usando %s\" % (grid.best_score_, \n",
    "    grid.best_params_))\n",
    "means = grid.cv_results_['mean_test_score']\n",
    "stds = grid.cv_results_['std_test_score']\n",
    "params = grid.cv_results_['params']\n",
    "for mean, stdev, param in zip(means, stds, params):\n",
    "    print(f\"Resultado medio: {mean}, SD: {stdev}  con: {param}\")"
   ]
  },
  {
   "cell_type": "code",
   "execution_count": 24,
   "metadata": {},
   "outputs": [
    {
     "name": "stderr",
     "output_type": "stream",
     "text": [
      "[Parallel(n_jobs=1)]: Using backend SequentialBackend with 1 concurrent workers.\n"
     ]
    },
    {
     "name": "stdout",
     "output_type": "stream",
     "text": [
      "\n",
      "accuracy 0.6169448010269576\n",
      "\n",
      "\n",
      "              precision    recall  f1-score   support\n",
      "\n",
      "           0       0.66      0.74      0.70      2328\n",
      "           1       0.53      0.44      0.48      1567\n",
      "\n",
      "    accuracy                           0.62      3895\n",
      "   macro avg       0.59      0.59      0.59      3895\n",
      "weighted avg       0.61      0.62      0.61      3895\n",
      "\n",
      "Confusion matrix, without normalization\n"
     ]
    },
    {
     "name": "stderr",
     "output_type": "stream",
     "text": [
      "[Parallel(n_jobs=1)]: Done 600 out of 600 | elapsed:    3.4s finished\n"
     ]
    },
    {
     "data": {
      "image/png": "[encoded data removed]",
      "text/plain": [
       "<Figure size 432x288 with 2 Axes>"
      ]
     },
     "metadata": {
      "needs_background": "light"
     },
     "output_type": "display_data"
    }
   ],
   "source": [
    "# Revisamos resultados del mejor modelo \n",
    "m_best = grid.best_estimator_ # mejor modelo\n",
    "y_pred = m_best.predict(df_test)\n",
    "# Metricas de precision\n",
    "print('\\naccuracy %s' % accuracy_score(y_pred, Ytest))\n",
    "print(\"\\n\")\n",
    "print(classification_report(Ytest, y_pred,))\n",
    "\n",
    "# plot \n",
    "cm = confusion_matrix(Ytest, y_pred)\n",
    "plot_confusion_matrix(cm, list(range(2)))"
   ]
  },
  {
   "cell_type": "code",
   "execution_count": null,
   "metadata": {},
   "outputs": [],
   "source": []
  }
 ],
 "metadata": {
  "interpreter": {
   "hash": "df18cdb32b0ed9abeb70b93109577e5db7d11b74163abf1d383f5b647ca1478b"
  },
  "kernelspec": {
   "display_name": "Python 3.9.7 ('base')",
   "language": "python",
   "name": "python3"
  },
  "language_info": {
   "codemirror_mode": {
    "name": "ipython",
    "version": 3
   },
   "file_extension": ".py",
   "mimetype": "text/x-python",
   "name": "python",
   "nbconvert_exporter": "python",
   "pygments_lexer": "ipython3",
   "version": "3.8.0"
  },
  "orig_nbformat": 4
 },
 "nbformat": 4,
 "nbformat_minor": 2
}
